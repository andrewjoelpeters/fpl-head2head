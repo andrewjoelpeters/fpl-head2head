{
 "metadata": {
  "language_info": {
   "codemirror_mode": {
    "name": "ipython",
    "version": 3
   },
   "file_extension": ".py",
   "mimetype": "text/x-python",
   "name": "python",
   "nbconvert_exporter": "python",
   "pygments_lexer": "ipython3",
   "version": "3.8.5"
  },
  "orig_nbformat": 2,
  "kernelspec": {
   "name": "python385jvsc74a57bd0dca0ade3e726a953b501b15e8e990130d2b7799f14cfd9f4271676035ebe5511",
   "display_name": "Python 3.8.5 64-bit ('base': conda)"
  }
 },
 "nbformat": 4,
 "nbformat_minor": 2,
 "cells": [
  {
   "cell_type": "code",
   "execution_count": 38,
   "metadata": {},
   "outputs": [],
   "source": [
    "import numpy as np\n",
    "import pandas as pd\n",
    "import requests\n",
    "import pprint\n",
    "from tqdm import tqdm #progress bar library -- not necessary, but helpful since some of this is slower"
   ]
  },
  {
   "cell_type": "code",
   "execution_count": 2,
   "metadata": {},
   "outputs": [],
   "source": [
    "#pd.set_option('display.max_rows', 500)\n",
    "#pd.set_option('display.max_columns', 500)\n",
    "#pd.set_option('display.width', 150)\n",
    "%matplotlib inline"
   ]
  },
  {
   "cell_type": "code",
   "execution_count": 29,
   "metadata": {},
   "outputs": [],
   "source": [
    "my_team_id = 5171826"
   ]
  },
  {
   "cell_type": "code",
   "execution_count": 30,
   "metadata": {},
   "outputs": [],
   "source": [
    "#pull the leagues that the selected team is in\n",
    "url = f'https://fantasy.premierleague.com/api/entry/{my_team_id}/'\n",
    "r = requests.get(url)\n",
    "json = r.json()\n",
    "\n",
    "league_list = {}\n",
    "for id_num in np.arange(len(json['leagues']['classic'])):\n",
    "    if json['leagues']['classic'][id_num]['league_type'] != 's':\n",
    "        league_list[json['leagues']['classic'][id_num]['id']] = json['leagues']['classic'][id_num]['name']\n"
   ]
  },
  {
   "cell_type": "code",
   "execution_count": 31,
   "metadata": {},
   "outputs": [
    {
     "output_type": "execute_result",
     "data": {
      "text/plain": [
       "{889368: 'Beat the Overlord', 1154028: 'Go on my Heung-min Son'}"
      ]
     },
     "metadata": {},
     "execution_count": 31
    }
   ],
   "source": [
    "league_list"
   ]
  },
  {
   "cell_type": "code",
   "execution_count": 32,
   "metadata": {},
   "outputs": [],
   "source": [
    "selected_league = 1154028"
   ]
  },
  {
   "cell_type": "code",
   "execution_count": 34,
   "metadata": {},
   "outputs": [],
   "source": [
    "# pull info on the selected league\n",
    "# make the league id a variable\n",
    "\n",
    "league_url = f'https://fantasy.premierleague.com/api/leagues-classic/{selected_league}/standings/'\n",
    "league_r = requests.get(league_url)\n",
    "league_json = league_r.json()"
   ]
  },
  {
   "cell_type": "code",
   "execution_count": 44,
   "metadata": {},
   "outputs": [],
   "source": [
    "league_df = pd.DataFrame(league_json['standings']['results'])"
   ]
  },
  {
   "cell_type": "code",
   "execution_count": 45,
   "metadata": {},
   "outputs": [
    {
     "output_type": "execute_result",
     "data": {
      "text/plain": [
       "         id  event_total                player_name  rank  last_rank  rank_sort  total    entry         entry_name\n",
       "0  32062212           15              Jackson Seidl     1          1          1   2097  3777451  Intelligent C&%$s\n",
       "1  34294458           27             Trevor Kellogg     2          2          2   1995  5083920    Messi City F.C.\n",
       "2  33017527           12                 John Masla     3          3          3   1970  5187741              Masla\n",
       "3  34041032           25  Charles von Reis-Iglesias     4          4          4   1964  5152592              Chunk\n",
       "4  32830630            8            Chandler Foster     5          5          5   1857  5116496          BI United\n",
       "5  32909403           23              Andrew Peters     6          6          6   1803  5171826           ahj_time\n",
       "6  34120975           20             Willie Hayward     7          7          7   1466  5330029            Pep2020\n",
       "7  34382330           19               Will Diiorio     8          8          8   1287  5359191         Wills Team"
      ],
      "text/html": "<div>\n<style scoped>\n    .dataframe tbody tr th:only-of-type {\n        vertical-align: middle;\n    }\n\n    .dataframe tbody tr th {\n        vertical-align: top;\n    }\n\n    .dataframe thead th {\n        text-align: right;\n    }\n</style>\n<table border=\"1\" class=\"dataframe\">\n  <thead>\n    <tr style=\"text-align: right;\">\n      <th></th>\n      <th>id</th>\n      <th>event_total</th>\n      <th>player_name</th>\n      <th>rank</th>\n      <th>last_rank</th>\n      <th>rank_sort</th>\n      <th>total</th>\n      <th>entry</th>\n      <th>entry_name</th>\n    </tr>\n  </thead>\n  <tbody>\n    <tr>\n      <th>0</th>\n      <td>32062212</td>\n      <td>15</td>\n      <td>Jackson Seidl</td>\n      <td>1</td>\n      <td>1</td>\n      <td>1</td>\n      <td>2097</td>\n      <td>3777451</td>\n      <td>Intelligent C&amp;%$s</td>\n    </tr>\n    <tr>\n      <th>1</th>\n      <td>34294458</td>\n      <td>27</td>\n      <td>Trevor Kellogg</td>\n      <td>2</td>\n      <td>2</td>\n      <td>2</td>\n      <td>1995</td>\n      <td>5083920</td>\n      <td>Messi City F.C.</td>\n    </tr>\n    <tr>\n      <th>2</th>\n      <td>33017527</td>\n      <td>12</td>\n      <td>John Masla</td>\n      <td>3</td>\n      <td>3</td>\n      <td>3</td>\n      <td>1970</td>\n      <td>5187741</td>\n      <td>Masla</td>\n    </tr>\n    <tr>\n      <th>3</th>\n      <td>34041032</td>\n      <td>25</td>\n      <td>Charles von Reis-Iglesias</td>\n      <td>4</td>\n      <td>4</td>\n      <td>4</td>\n      <td>1964</td>\n      <td>5152592</td>\n      <td>Chunk</td>\n    </tr>\n    <tr>\n      <th>4</th>\n      <td>32830630</td>\n      <td>8</td>\n      <td>Chandler Foster</td>\n      <td>5</td>\n      <td>5</td>\n      <td>5</td>\n      <td>1857</td>\n      <td>5116496</td>\n      <td>BI United</td>\n    </tr>\n    <tr>\n      <th>5</th>\n      <td>32909403</td>\n      <td>23</td>\n      <td>Andrew Peters</td>\n      <td>6</td>\n      <td>6</td>\n      <td>6</td>\n      <td>1803</td>\n      <td>5171826</td>\n      <td>ahj_time</td>\n    </tr>\n    <tr>\n      <th>6</th>\n      <td>34120975</td>\n      <td>20</td>\n      <td>Willie Hayward</td>\n      <td>7</td>\n      <td>7</td>\n      <td>7</td>\n      <td>1466</td>\n      <td>5330029</td>\n      <td>Pep2020</td>\n    </tr>\n    <tr>\n      <th>7</th>\n      <td>34382330</td>\n      <td>19</td>\n      <td>Will Diiorio</td>\n      <td>8</td>\n      <td>8</td>\n      <td>8</td>\n      <td>1287</td>\n      <td>5359191</td>\n      <td>Wills Team</td>\n    </tr>\n  </tbody>\n</table>\n</div>"
     },
     "metadata": {},
     "execution_count": 45
    }
   ],
   "source": [
    "league_df"
   ]
  },
  {
   "cell_type": "code",
   "execution_count": 47,
   "metadata": {},
   "outputs": [],
   "source": [
    "league_entries = list(league_df.entry)"
   ]
  },
  {
   "cell_type": "code",
   "execution_count": 48,
   "metadata": {},
   "outputs": [
    {
     "output_type": "execute_result",
     "data": {
      "text/plain": [
       "[3777451, 5083920, 5187741, 5152592, 5116496, 5171826, 5330029, 5359191]"
      ]
     },
     "metadata": {},
     "execution_count": 48
    }
   ],
   "source": [
    "league_entries"
   ]
  },
  {
   "cell_type": "code",
   "execution_count": 164,
   "metadata": {},
   "outputs": [],
   "source": [
    "current_gw = 34\n",
    "entry_id = league_entries[0]\n",
    "league_teams_df = pd.DataFrame()\n",
    "\n",
    "for entry_id in league_entries:\n",
    "    teams_url = f'https://fantasy.premierleague.com/api/entry/{entry_id}/event/{current_gw}/picks/'\n",
    "    teams_r = requests.get(teams_url)\n",
    "    teams_json = teams_r.json()\n",
    "\n",
    "    single_team_df = pd.DataFrame(teams_json['picks'])\n",
    "    single_team_df['entry'] = entry_id\n",
    "\n",
    "    league_teams_df = league_teams_df.append(single_team_df)\n"
   ]
  },
  {
   "cell_type": "code",
   "execution_count": 165,
   "metadata": {},
   "outputs": [],
   "source": [
    "league_teams_df = league_teams_df.merge(league_df, on = 'entry')"
   ]
  },
  {
   "cell_type": "code",
   "execution_count": 200,
   "metadata": {},
   "outputs": [],
   "source": [
    "url = 'https://fantasy.premierleague.com/api/bootstrap-static/'\n",
    "r = requests.get(url)\n",
    "json = r.json()"
   ]
  },
  {
   "cell_type": "code",
   "execution_count": 201,
   "metadata": {},
   "outputs": [],
   "source": [
    "player_names = pd.DataFrame(json['elements']).loc[:, ['id', 'web_name', 'team']]"
   ]
  },
  {
   "cell_type": "code",
   "execution_count": 202,
   "metadata": {},
   "outputs": [],
   "source": [
    "players_url = f'https://fantasy.premierleague.com/api/event/{current_gw}/live/'\n",
    "players_r = requests.get(players_url)\n",
    "players_json = players_r.json()"
   ]
  },
  {
   "cell_type": "code",
   "execution_count": 203,
   "metadata": {},
   "outputs": [],
   "source": [
    "live_pts_df = pd.DataFrame(players_json['elements'])"
   ]
  },
  {
   "cell_type": "code",
   "execution_count": 204,
   "metadata": {},
   "outputs": [],
   "source": [
    "#unpack the stats column (in json form) to columns, and then merge back with the original dataframe\n",
    "unpacked_stats_df = pd.DataFrame(live_pts_df.stats.values.tolist())\n",
    "live_pts_df = live_pts_df.join(unpacked_stats_df)"
   ]
  },
  {
   "cell_type": "code",
   "execution_count": 207,
   "metadata": {},
   "outputs": [],
   "source": [
    "live_pts_df = live_pts_df.merge(player_names)"
   ]
  },
  {
   "cell_type": "code",
   "execution_count": 208,
   "metadata": {},
   "outputs": [],
   "source": [
    "#renaming the 'id' column to 'elements' to match other tables\n",
    "live_pts_df = live_pts_df.rename(columns = {'id': 'element'})"
   ]
  },
  {
   "cell_type": "code",
   "execution_count": 210,
   "metadata": {},
   "outputs": [],
   "source": [
    "live_pts_df = live_pts_df[['element', 'total_points', 'web_name']]"
   ]
  },
  {
   "cell_type": "code",
   "execution_count": 211,
   "metadata": {},
   "outputs": [],
   "source": [
    "#merge in live player data with the league teams df, to see how each manager's team has done so far (at the player level)\n",
    "league_teams_df = league_teams_df.merge(live_pts_df).sort_values('rank')"
   ]
  },
  {
   "cell_type": "code",
   "execution_count": 212,
   "metadata": {},
   "outputs": [
    {
     "output_type": "execute_result",
     "data": {
      "text/plain": [
       "                 player_name    entry\n",
       "0              Jackson Seidl  3777451\n",
       "1             Trevor Kellogg  5083920\n",
       "2                 John Masla  5187741\n",
       "3  Charles von Reis-Iglesias  5152592\n",
       "4            Chandler Foster  5116496\n",
       "5              Andrew Peters  5171826\n",
       "6             Willie Hayward  5330029\n",
       "7               Will Diiorio  5359191"
      ],
      "text/html": "<div>\n<style scoped>\n    .dataframe tbody tr th:only-of-type {\n        vertical-align: middle;\n    }\n\n    .dataframe tbody tr th {\n        vertical-align: top;\n    }\n\n    .dataframe thead th {\n        text-align: right;\n    }\n</style>\n<table border=\"1\" class=\"dataframe\">\n  <thead>\n    <tr style=\"text-align: right;\">\n      <th></th>\n      <th>player_name</th>\n      <th>entry</th>\n    </tr>\n  </thead>\n  <tbody>\n    <tr>\n      <th>0</th>\n      <td>Jackson Seidl</td>\n      <td>3777451</td>\n    </tr>\n    <tr>\n      <th>1</th>\n      <td>Trevor Kellogg</td>\n      <td>5083920</td>\n    </tr>\n    <tr>\n      <th>2</th>\n      <td>John Masla</td>\n      <td>5187741</td>\n    </tr>\n    <tr>\n      <th>3</th>\n      <td>Charles von Reis-Iglesias</td>\n      <td>5152592</td>\n    </tr>\n    <tr>\n      <th>4</th>\n      <td>Chandler Foster</td>\n      <td>5116496</td>\n    </tr>\n    <tr>\n      <th>5</th>\n      <td>Andrew Peters</td>\n      <td>5171826</td>\n    </tr>\n    <tr>\n      <th>6</th>\n      <td>Willie Hayward</td>\n      <td>5330029</td>\n    </tr>\n    <tr>\n      <th>7</th>\n      <td>Will Diiorio</td>\n      <td>5359191</td>\n    </tr>\n  </tbody>\n</table>\n</div>"
     },
     "metadata": {},
     "execution_count": 212
    }
   ],
   "source": [
    "league_df.loc[:, ['player_name', 'entry']]"
   ]
  },
  {
   "cell_type": "code",
   "execution_count": 213,
   "metadata": {},
   "outputs": [],
   "source": [
    "#pick a team to compare to \n",
    "comparison_team = 5116496"
   ]
  },
  {
   "cell_type": "code",
   "execution_count": 214,
   "metadata": {},
   "outputs": [],
   "source": [
    "my_players = list(league_teams_df[league_teams_df.entry == my_team_id]['element'])"
   ]
  },
  {
   "cell_type": "code",
   "execution_count": 215,
   "metadata": {},
   "outputs": [],
   "source": [
    "comparison_players = list(league_teams_df[league_teams_df.entry == comparison_team]['element'])"
   ]
  },
  {
   "cell_type": "code",
   "execution_count": 216,
   "metadata": {},
   "outputs": [],
   "source": [
    "def find_distinct_players(team1, team2):\n",
    "    return (list(list(set(team1)-set(team2)) + list(set(team2)-set(team1))))"
   ]
  },
  {
   "cell_type": "code",
   "execution_count": 217,
   "metadata": {},
   "outputs": [],
   "source": [
    "distinct_players = find_distinct_players(my_players, comparison_players)"
   ]
  },
  {
   "cell_type": "code",
   "execution_count": 220,
   "metadata": {},
   "outputs": [],
   "source": [
    "#show differential players (note that this view doesn't show players on bench)\n",
    "\n",
    "diffs_df = league_teams_df[(league_teams_df.entry.isin([my_team_id, comparison_team])) & (league_teams_df.element.isin(distinct_players))\n",
    "    & (league_teams_df.multiplier != 0)]"
   ]
  },
  {
   "cell_type": "code",
   "execution_count": 236,
   "metadata": {},
   "outputs": [
    {
     "output_type": "stream",
     "name": "stdout",
     "text": [
      "'BI United'\n     web_name  total_points  is_captain\n22       Kane             0        True\n38    Pereira             0       False\n6        Jota             0       False\n89     Dallas             1       False\n56  Fernandes             0       False\n\n\n'ahj_time'\n    web_name  total_points  is_captain\n94   Bamford             1       False\n97   Pereira             0       False\n98  Harrison             2       False\n66     Salah             0       False\n82   Meslier             2       False\n\n\n"
     ]
    }
   ],
   "source": [
    "for entry in diffs_df.entry.unique():\n",
    "    section = diffs_df[diffs_df.entry == entry]\n",
    "    pprint.pprint(section.entry_name.values[0])\n",
    "    pprint.pprint(section.loc[:, ['web_name', 'total_points', 'is_captain']])\n",
    "    print('\\n')"
   ]
  },
  {
   "cell_type": "code",
   "execution_count": null,
   "metadata": {},
   "outputs": [],
   "source": []
  }
 ]
}